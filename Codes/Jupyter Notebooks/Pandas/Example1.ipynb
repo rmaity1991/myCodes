{
 "cells": [
  {
   "cell_type": "code",
   "execution_count": 2,
   "metadata": {},
   "outputs": [
    {
     "name": "stdout",
     "output_type": "stream",
     "text": [
      "pen      100\n",
      "shirt    200\n",
      "book     300\n",
      "mouse    400\n",
      "dtype: int64\n"
     ]
    }
   ],
   "source": [
    "import pandas as pd\n",
    "\n",
    "pricelist=[100,200,300,400]\n",
    "\n",
    "productseries=pd.Series(pricelist,index=['pen','shirt','book','mouse'])\n",
    "print(productseries)"
   ]
  },
  {
   "cell_type": "code",
   "execution_count": 3,
   "metadata": {},
   "outputs": [
    {
     "name": "stdout",
     "output_type": "stream",
     "text": [
      "   pen  shirt  book  mouse\n",
      "0  100    200   300    400\n",
      "1    4      2     5      6\n"
     ]
    }
   ],
   "source": [
    "productdf=pd.DataFrame([[100,200,300,400],[4,2,5,6]],columns=['pen','shirt','book','mouse'])\n",
    "print(productdf)"
   ]
  },
  {
   "cell_type": "code",
   "execution_count": 4,
   "metadata": {},
   "outputs": [
    {
     "name": "stdout",
     "output_type": "stream",
     "text": [
      "(2, 4)\n"
     ]
    }
   ],
   "source": [
    "print(productdf.shape)"
   ]
  },
  {
   "cell_type": "code",
   "execution_count": 5,
   "metadata": {},
   "outputs": [
    {
     "name": "stdout",
     "output_type": "stream",
     "text": [
      "8\n"
     ]
    }
   ],
   "source": [
    "print(productdf.size)"
   ]
  },
  {
   "cell_type": "code",
   "execution_count": 6,
   "metadata": {},
   "outputs": [
    {
     "name": "stdout",
     "output_type": "stream",
     "text": [
      "Index(['pen', 'shirt', 'book', 'mouse'], dtype='object')\n"
     ]
    }
   ],
   "source": [
    "print(productdf.keys())"
   ]
  },
  {
   "cell_type": "code",
   "execution_count": 7,
   "metadata": {},
   "outputs": [
    {
     "name": "stdout",
     "output_type": "stream",
     "text": [
      "(2, 4)\n",
      "Index(['pen', 'shirt', 'book', 'mouse'], dtype='object')\n",
      "8\n"
     ]
    }
   ],
   "source": [
    "productdf2=pd.DataFrame([[120,240,350,420],[40,20,50,60]],columns=['pen','shirt','book','mouse'])\n",
    "print(productdf2.shape)\n",
    "print(productdf2.keys())\n",
    "print(productdf2.size)"
   ]
  },
  {
   "cell_type": "code",
   "execution_count": 8,
   "metadata": {},
   "outputs": [
    {
     "name": "stdout",
     "output_type": "stream",
     "text": [
      "   pen  shirt  book  mouse\n",
      "0  100    200   300    400\n",
      "1    4      2     5      6\n",
      "0  120    240   350    420\n",
      "1   40     20    50     60\n"
     ]
    }
   ],
   "source": [
    "productdf3=productdf.append(productdf2)\n",
    "print(productdf3)"
   ]
  },
  {
   "cell_type": "code",
   "execution_count": 9,
   "metadata": {},
   "outputs": [],
   "source": [
    "productdf3['mobile']=[15000,2,30,40]\n",
    "productdf3['laptop']=[35000,4,56,67]"
   ]
  },
  {
   "cell_type": "code",
   "execution_count": 10,
   "metadata": {},
   "outputs": [
    {
     "name": "stdout",
     "output_type": "stream",
     "text": [
      "   pen  shirt  book  mouse  mobile  laptop\n",
      "0  100    200   300    400   15000   35000\n",
      "1    4      2     5      6       2       4\n",
      "0  120    240   350    420      30      56\n",
      "1   40     20    50     60      40      67\n"
     ]
    }
   ],
   "source": [
    "print(productdf3)"
   ]
  },
  {
   "cell_type": "code",
   "execution_count": 11,
   "metadata": {},
   "outputs": [],
   "source": [
    "productdf4=productdf3"
   ]
  },
  {
   "cell_type": "code",
   "execution_count": 12,
   "metadata": {},
   "outputs": [
    {
     "name": "stdout",
     "output_type": "stream",
     "text": [
      "   pen  shirt  book  mouse  mobile  laptop\n",
      "0  100    200   300    400   15000   35000\n",
      "1    4      2     5      6       2       4\n",
      "0  120    240   350    420      30      56\n",
      "1   40     20    50     60      40      67\n"
     ]
    }
   ],
   "source": [
    "print(productdf4)"
   ]
  },
  {
   "cell_type": "code",
   "execution_count": 13,
   "metadata": {},
   "outputs": [
    {
     "name": "stdout",
     "output_type": "stream",
     "text": [
      "   pen  shirt  book  mobile  laptop\n",
      "0  100    200   300   15000   35000\n",
      "1    4      2     5       2       4\n",
      "0  120    240   350      30      56\n",
      "1   40     20    50      40      67\n"
     ]
    }
   ],
   "source": [
    "productdf4=productdf4.drop(columns=['mouse'])\n",
    "print(productdf4)"
   ]
  },
  {
   "cell_type": "code",
   "execution_count": 14,
   "metadata": {},
   "outputs": [],
   "source": [
    "productdf4=productdf4.drop(index=[0])"
   ]
  },
  {
   "cell_type": "code",
   "execution_count": 15,
   "metadata": {},
   "outputs": [
    {
     "name": "stdout",
     "output_type": "stream",
     "text": [
      "   pen  shirt  book  mobile  laptop\n",
      "1    4      2     5       2       4\n",
      "1   40     20    50      40      67\n"
     ]
    }
   ],
   "source": [
    "print(productdf4)"
   ]
  },
  {
   "cell_type": "code",
   "execution_count": null,
   "metadata": {},
   "outputs": [],
   "source": []
  }
 ],
 "metadata": {
  "interpreter": {
   "hash": "5cf4e2b5deef73c1fde88f1718c9f7050d5735eb419c0ac6337d184334d4ef34"
  },
  "kernelspec": {
   "display_name": "Python 3.9.7 ('base')",
   "language": "python",
   "name": "python3"
  },
  "language_info": {
   "codemirror_mode": {
    "name": "ipython",
    "version": 3
   },
   "file_extension": ".py",
   "mimetype": "text/x-python",
   "name": "python",
   "nbconvert_exporter": "python",
   "pygments_lexer": "ipython3",
   "version": "3.9.7"
  },
  "orig_nbformat": 4
 },
 "nbformat": 4,
 "nbformat_minor": 2
}
