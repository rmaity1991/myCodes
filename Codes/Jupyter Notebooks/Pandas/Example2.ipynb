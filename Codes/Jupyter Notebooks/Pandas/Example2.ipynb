{
 "cells": [
  {
   "cell_type": "code",
   "execution_count": 11,
   "metadata": {},
   "outputs": [
    {
     "name": "stdout",
     "output_type": "stream",
     "text": [
      "     Age  Gender    TB   DB  Alkphos  Sgpt  Sgot   TP  ALB    AG  LiverPatient\n",
      "0     65  Female   0.7  0.1      187    16    18  6.8  3.3  0.90             1\n",
      "1     62    Male  10.9  5.5      699    64   100  7.5  3.2  0.74             1\n",
      "2     62    Male   7.3  4.1      490    60    68  7.0  3.3  0.89             1\n",
      "3     58    Male   1.0  0.4      182    14    20  6.8  3.4  1.00             1\n",
      "4     72    Male   3.9  2.0      195    27    59  7.3  2.4  0.40             1\n",
      "..   ...     ...   ...  ...      ...   ...   ...  ...  ...   ...           ...\n",
      "578   60    Male   0.5  0.1      500    20    34  5.9  1.6  0.37             2\n",
      "579   40    Male   0.6  0.1       98    35    31  6.0  3.2  1.10             1\n",
      "580   52    Male   0.8  0.2      245    48    49  6.4  3.2  1.00             1\n",
      "581   31    Male   1.3  0.5      184    29    32  6.8  3.4  1.00             1\n",
      "582   38    Male   1.0  0.3      216    21    24  7.3  4.4  1.50             2\n",
      "\n",
      "[583 rows x 11 columns]\n",
      "RangeIndex(start=0, stop=583, step=1)\n",
      "6413\n",
      "(583, 11)\n"
     ]
    }
   ],
   "source": [
    "import pandas as pd\n",
    "\n",
    "liver=pd.read_csv(\"Indian Liver Patient Dataset.csv\")\n",
    "print(liver)\n",
    "print(liver.index)\n",
    "print(liver.size)\n",
    "print(liver.shape)"
   ]
  },
  {
   "cell_type": "code",
   "execution_count": 12,
   "metadata": {},
   "outputs": [
    {
     "name": "stdout",
     "output_type": "stream",
     "text": [
      "<class 'pandas.core.frame.DataFrame'>\n",
      "RangeIndex: 583 entries, 0 to 582\n",
      "Data columns (total 11 columns):\n",
      " #   Column        Non-Null Count  Dtype  \n",
      "---  ------        --------------  -----  \n",
      " 0   Age           583 non-null    int64  \n",
      " 1   Gender        583 non-null    object \n",
      " 2   TB            583 non-null    float64\n",
      " 3   DB            583 non-null    float64\n",
      " 4   Alkphos       583 non-null    int64  \n",
      " 5   Sgpt          583 non-null    int64  \n",
      " 6   Sgot          583 non-null    int64  \n",
      " 7   TP            583 non-null    float64\n",
      " 8   ALB           583 non-null    float64\n",
      " 9   AG            579 non-null    float64\n",
      " 10  LiverPatient  583 non-null    int64  \n",
      "dtypes: float64(5), int64(5), object(1)\n",
      "memory usage: 50.2+ KB\n",
      "None\n"
     ]
    }
   ],
   "source": [
    "print(liver.info())"
   ]
  },
  {
   "cell_type": "code",
   "execution_count": 13,
   "metadata": {},
   "outputs": [
    {
     "name": "stdout",
     "output_type": "stream",
     "text": [
      "              Age          TB          DB      Alkphos         Sgpt  \\\n",
      "count  583.000000  583.000000  583.000000   583.000000   583.000000   \n",
      "mean    44.746141    3.298799    1.486106   290.576329    80.713551   \n",
      "std     16.189833    6.209522    2.808498   242.937989   182.620356   \n",
      "min      4.000000    0.400000    0.100000    63.000000    10.000000   \n",
      "25%     33.000000    0.800000    0.200000   175.500000    23.000000   \n",
      "50%     45.000000    1.000000    0.300000   208.000000    35.000000   \n",
      "75%     58.000000    2.600000    1.300000   298.000000    60.500000   \n",
      "max     90.000000   75.000000   19.700000  2110.000000  2000.000000   \n",
      "\n",
      "              Sgot          TP         ALB          AG  LiverPatient  \n",
      "count   583.000000  583.000000  583.000000  579.000000    583.000000  \n",
      "mean    109.910806    6.483190    3.141852    0.947064      1.286449  \n",
      "std     288.918529    1.085451    0.795519    0.319592      0.452490  \n",
      "min      10.000000    2.700000    0.900000    0.300000      1.000000  \n",
      "25%      25.000000    5.800000    2.600000    0.700000      1.000000  \n",
      "50%      42.000000    6.600000    3.100000    0.930000      1.000000  \n",
      "75%      87.000000    7.200000    3.800000    1.100000      2.000000  \n",
      "max    4929.000000    9.600000    5.500000    2.800000      2.000000  \n"
     ]
    }
   ],
   "source": [
    "print(liver.describe())"
   ]
  },
  {
   "cell_type": "code",
   "execution_count": 14,
   "metadata": {},
   "outputs": [
    {
     "name": "stdout",
     "output_type": "stream",
     "text": [
      "   Age  Gender    TB   DB  Alkphos  Sgpt  Sgot   TP  ALB    AG  LiverPatient\n",
      "0   65  Female   0.7  0.1      187    16    18  6.8  3.3  0.90             1\n",
      "1   62    Male  10.9  5.5      699    64   100  7.5  3.2  0.74             1\n",
      "2   62    Male   7.3  4.1      490    60    68  7.0  3.3  0.89             1\n",
      "3   58    Male   1.0  0.4      182    14    20  6.8  3.4  1.00             1\n",
      "4   72    Male   3.9  2.0      195    27    59  7.3  2.4  0.40             1\n"
     ]
    }
   ],
   "source": [
    "print(liver.head())"
   ]
  },
  {
   "cell_type": "code",
   "execution_count": 15,
   "metadata": {},
   "outputs": [
    {
     "name": "stdout",
     "output_type": "stream",
     "text": [
      "     Age Gender   TB   DB  Alkphos  Sgpt  Sgot   TP  ALB   AG  LiverPatient\n",
      "581   31   Male  1.3  0.5      184    29    32  6.8  3.4  1.0             1\n",
      "582   38   Male  1.0  0.3      216    21    24  7.3  4.4  1.5             2\n"
     ]
    }
   ],
   "source": [
    "print(liver.tail(2))"
   ]
  },
  {
   "cell_type": "code",
   "execution_count": 16,
   "metadata": {},
   "outputs": [
    {
     "name": "stdout",
     "output_type": "stream",
     "text": [
      "Index(['Age', 'Gender', 'TB', 'DB', 'Alkphos', 'Sgpt', 'Sgot', 'TP', 'ALB',\n",
      "       'AG', 'LiverPatient'],\n",
      "      dtype='object')\n"
     ]
    }
   ],
   "source": [
    "print(liver.columns)"
   ]
  },
  {
   "cell_type": "code",
   "execution_count": 17,
   "metadata": {},
   "outputs": [],
   "source": [
    "liver_copy1=liver"
   ]
  },
  {
   "cell_type": "code",
   "execution_count": 18,
   "metadata": {},
   "outputs": [
    {
     "name": "stdout",
     "output_type": "stream",
     "text": [
      "     Age  Gender    TB   DB  Alkphos  Sgpt  Sgot   TP  ALB    AG  LiverPatient\n",
      "0     65  Female   0.7  0.1      187    16    18  6.8  3.3  0.90             1\n",
      "1     62    Male  10.9  5.5      699    64   100  7.5  3.2  0.74             1\n",
      "2     62    Male   7.3  4.1      490    60    68  7.0  3.3  0.89             1\n",
      "3     58    Male   1.0  0.4      182    14    20  6.8  3.4  1.00             1\n",
      "4     72    Male   3.9  2.0      195    27    59  7.3  2.4  0.40             1\n",
      "..   ...     ...   ...  ...      ...   ...   ...  ...  ...   ...           ...\n",
      "578   60    Male   0.5  0.1      500    20    34  5.9  1.6  0.37             2\n",
      "579   40    Male   0.6  0.1       98    35    31  6.0  3.2  1.10             1\n",
      "580   52    Male   0.8  0.2      245    48    49  6.4  3.2  1.00             1\n",
      "581   31    Male   1.3  0.5      184    29    32  6.8  3.4  1.00             1\n",
      "582   38    Male   1.0  0.3      216    21    24  7.3  4.4  1.50             2\n",
      "\n",
      "[583 rows x 11 columns]\n"
     ]
    }
   ],
   "source": [
    "print(liver_copy1)"
   ]
  },
  {
   "cell_type": "code",
   "execution_count": 21,
   "metadata": {},
   "outputs": [
    {
     "name": "stdout",
     "output_type": "stream",
     "text": [
      "     TB   DB\n",
      "0   0.7  0.1\n",
      "1  10.9  5.5\n",
      "2   7.3  4.1\n",
      "3   1.0  0.4\n",
      "4   3.9  2.0\n",
      "      TB   DB\n",
      "578  0.5  0.1\n",
      "579  0.6  0.1\n",
      "580  0.8  0.2\n",
      "581  1.3  0.5\n",
      "582  1.0  0.3\n"
     ]
    }
   ],
   "source": [
    "print(liver_copy1[['TB','DB']].head(5))\n",
    "print(liver_copy1[['TB','DB']].tail(5))"
   ]
  },
  {
   "cell_type": "code",
   "execution_count": 26,
   "metadata": {},
   "outputs": [
    {
     "name": "stdout",
     "output_type": "stream",
     "text": [
      "[ 0.7 10.9  7.3  1.   3.9  1.8  0.9  0.9  0.9  0.7  0.6  2.7  0.9  1.1\n",
      "  0.7  0.6  1.8  1.6  0.9  0.9  2.2  2.9  6.8  1.9  0.9  4.1  4.1  6.2\n",
      "  1.1  0.7  4.   0.9  1.   2.6  2.6  1.3  0.7 14.2  1.4  2.7  2.4  0.6\n",
      "  6.8  2.6  1.   1.8  3.9  1.1  0.6 18.4  0.7  0.6  3.1  1.1  8.9  8.9\n",
      "  0.8  0.9  0.8  1.1  0.8  1.   1.   0.7  1.3  1.4  2.2  1.8  0.7  0.8\n",
      "  0.7  0.8  0.8  0.6  0.7  0.7  0.9  0.6  1.4  2.8  2.4  1.   0.7  2.\n",
      "  0.6  1.4  0.6  0.8  0.6  4.   5.7  6.8  8.6  5.8  5.2  0.9  3.8  6.6\n",
      "  0.6  0.7  0.6  0.7  0.9  0.8  0.5  5.3  5.3  0.8  0.8  0.9  0.7  3.2\n",
      "  1.2  0.6  5.8  7.3  0.7 12.7 15.9 18.  23.  22.7  1.7  0.8  0.6  1.8\n",
      "  5.8  3.   1.7  2.8  3.2  0.7  0.8  0.9  1.8 11.3  4.7  0.8  0.8  0.8\n",
      "  0.6  4.2  1.6  1.6  3.5  0.8  2.9  0.7  0.9  0.8  1.1  1.6  0.8  0.6\n",
      "  5.9  8.7  0.9  0.7  0.7  1.2 11.  11.5  5.8  1.9  1.9  4.5 75.   3.\n",
      " 22.8  8.9  1.7  1.9 14.1  0.6  0.6  0.8  0.8 14.8 10.6  8.   2.8  2.9\n",
      "  1.9  0.6  1.1  1.5  3.2  2.1  1.9  0.8  6.3  5.8  2.3  1.3  2.   2.4\n",
      "  2.   0.6  0.9 27.2  0.6  0.6  0.8  1.   0.7  2.5  3.6  3.9  0.9  0.9\n",
      "  0.8  2.7  2.7  0.9  1.7  0.6  0.9  1.1  0.6  0.8  0.8  0.9  0.9  1.1\n",
      "  1.7  0.6  1.3  0.7  1.   0.6  1.5  0.8  2.7  2.   0.9  1.5  0.8  0.9\n",
      "  0.9  0.9  0.7  0.8  0.8  0.9  0.8  0.9  1.8  0.9  0.7  1.2  2.1  0.9\n",
      "  1.1  0.6  0.7  1.7  0.9  0.8  0.8 30.5 16.4  1.5  0.8  0.8  0.8  0.9\n",
      "  1.2  0.9 14.5  0.6  0.7  0.8 18.5  0.7  1.8  1.9  0.9  2.   2.2  1.\n",
      "  0.8  0.7  0.7  1.3  0.9  1.5  0.8  1.3  1.   4.5  1.   0.7  0.6  1.1\n",
      "  2.4  0.6  0.9  0.9  1.1  0.9  0.8  0.9  1.7  0.7  0.8  1.4  1.6  0.8\n",
      "  0.8  1.1  0.8 23.2  1.3  0.8  2.   0.9  0.9  0.7  3.7  0.9  0.7  0.8\n",
      "  1.7  0.8  2.6  0.8  1.2  3.3  0.8  0.7  2.   1.7  7.1  0.7  0.7  0.7\n",
      "  6.7  2.5  1.8  1.4  0.9  0.8  0.8  3.1  0.8  2.9  0.6  0.7  1.3  0.8\n",
      "  1.8  1.3  0.7  1.4  0.8  1.4  0.7  2.1  0.7  0.8  0.7  0.7  1.1  0.9\n",
      "  0.8  0.7  0.7  2.2  0.8  0.8 22.6  0.8  0.7  0.7  0.7  3.5  0.7  0.6\n",
      "  0.7  0.7  1.7  0.6  0.7  1.4  3.7  0.8  2.7  0.8  0.8  0.6  0.8  0.9\n",
      "  7.5  2.7  1.   0.8  1.   1.   0.8  1.   0.7  7.3  0.5  0.7  0.8  0.8\n",
      "  0.7  1.   2.4  5.   1.4  2.3  4.9  0.7  1.4  1.3  0.6  0.7  4.2  8.2\n",
      " 10.9  1.   1.2  1.6  0.7  0.4  1.3  0.9  0.6  1.9  0.7  0.8  0.7  0.9\n",
      "  0.7  0.5  1.   1.6  0.8  0.8  0.8  2.3  7.4  0.7  0.8  0.9  0.8 23.3\n",
      "  0.8  0.9  7.9  0.8  0.9  0.7  0.6  0.6  0.7  0.8  6.8  1.1  2.2  0.8\n",
      "  0.7  0.8  0.7  0.6  0.6  1.   1.   0.8  1.1  0.6  0.7  1.   2.   2.2\n",
      "  0.9  0.6  7.1  3.4  0.5  2.3  1.1  0.8  5.   6.7  0.8  0.7  0.7  0.8\n",
      "  0.8  1.   1.   0.7  0.7  0.7  1.   2.2  1.8  3.6  2.7  2.8  0.8 19.8\n",
      " 30.5 32.6 17.7  0.9 18.4 20.   0.8  2.2  1.   0.9  1.   3.9  0.9  0.9\n",
      "  2.9 26.3  1.8  4.4  0.8  0.6  0.8  0.9  9.4  3.5  1.7  3.3  1.1 30.8\n",
      "  0.7  1.4  1.6 19.6 15.8  0.8  1.8  0.7  0.8  0.8  0.7  1.2  5.5  0.7\n",
      " 20.2 27.7 11.1  2.1  3.3  1.2  0.6 10.2  1.8  0.8  0.7  2.9  4.  42.8\n",
      " 15.2 16.6 17.3  1.4  0.6 22.5  1.   2.7 16.7  7.7  2.6  1.1 15.6  3.7\n",
      " 12.1 25.  15.  12.7  0.5  0.6  0.8  1.3  1. ]\n",
      "0.8     91\n",
      "0.7     77\n",
      "0.9     57\n",
      "0.6     46\n",
      "1.0     28\n",
      "        ..\n",
      "14.5     1\n",
      "18.5     1\n",
      "23.2     1\n",
      "22.6     1\n",
      "15.0     1\n",
      "Name: TB, Length: 113, dtype: int64\n",
      "0.8     0.156089\n",
      "0.7     0.132075\n",
      "0.9     0.097770\n",
      "0.6     0.078902\n",
      "1.0     0.048027\n",
      "          ...   \n",
      "14.5    0.001715\n",
      "18.5    0.001715\n",
      "23.2    0.001715\n",
      "22.6    0.001715\n",
      "15.0    0.001715\n",
      "Name: TB, Length: 113, dtype: float64\n",
      "count    583.000000\n",
      "mean       3.298799\n",
      "std        6.209522\n",
      "min        0.400000\n",
      "25%        0.800000\n",
      "50%        1.000000\n",
      "75%        2.600000\n",
      "max       75.000000\n",
      "Name: TB, dtype: float64\n"
     ]
    }
   ],
   "source": [
    "print(liver_copy1['TB'].values)\n",
    "print(liver_copy1['TB'].value_counts())\n",
    "print(liver_copy1['TB'].value_counts()/len(liver_copy1['TB']))\n",
    "print(liver_copy1['TB'].describe())"
   ]
  },
  {
   "cell_type": "code",
   "execution_count": 28,
   "metadata": {},
   "outputs": [
    {
     "name": "stdout",
     "output_type": "stream",
     "text": [
      "['Female', 'Male', 'Male', 'Male', 'Male', 'Male', 'Female', 'Female', 'Male', 'Male', 'Male', 'Male', 'Male', 'Female', 'Male', 'Male', 'Male', 'Male', 'Female', 'Female', 'Male', 'Male', 'Male', 'Male', 'Male', 'Male', 'Male', 'Male', 'Male', 'Female', 'Male', 'Male', 'Male', 'Female', 'Female', 'Male', 'Female', 'Female', 'Male', 'Male', 'Male', 'Male', 'Male', 'Male', 'Female', 'Male', 'Male', 'Male', 'Female', 'Male', 'Female', 'Female', 'Male', 'Male', 'Male', 'Male', 'Male', 'Female', 'Male', 'Male', 'Female', 'Male', 'Male', 'Male', 'Male', 'Male', 'Male', 'Male', 'Male', 'Male', 'Female', 'Female', 'Female', 'Male', 'Male', 'Female', 'Male', 'Female', 'Male', 'Female', 'Female', 'Male', 'Male', 'Male', 'Male', 'Male', 'Male', 'Male', 'Male', 'Male', 'Male', 'Male', 'Male', 'Male', 'Male', 'Male', 'Male', 'Male', 'Male', 'Male', 'Male', 'Male', 'Male', 'Female', 'Male', 'Male', 'Male', 'Male', 'Male', 'Male', 'Female', 'Male', 'Male', 'Male', 'Male', 'Male', 'Male', 'Male', 'Male', 'Male', 'Male', 'Male', 'Male', 'Female', 'Male', 'Male', 'Male', 'Male', 'Female', 'Male', 'Male', 'Female', 'Female', 'Male', 'Male', 'Male', 'Female', 'Male', 'Male', 'Male', 'Male', 'Female', 'Male', 'Male', 'Female', 'Male', 'Female', 'Male', 'Male', 'Male', 'Male', 'Male', 'Female', 'Male', 'Male', 'Male', 'Male', 'Male', 'Male', 'Male', 'Male', 'Male', 'Male', 'Male', 'Male', 'Male', 'Male', 'Female', 'Male', 'Male', 'Male', 'Female', 'Male', 'Male', 'Male', 'Male', 'Male', 'Male', 'Male', 'Male', 'Male', 'Male', 'Male', 'Male', 'Male', 'Male', 'Male', 'Male', 'Male', 'Female', 'Male', 'Male', 'Male', 'Male', 'Male', 'Male', 'Male', 'Female', 'Male', 'Female', 'Male', 'Male', 'Female', 'Male', 'Male', 'Male', 'Male', 'Male', 'Female', 'Female', 'Male', 'Male', 'Male', 'Female', 'Male', 'Male', 'Male', 'Male', 'Male', 'Male', 'Male', 'Male', 'Male', 'Male', 'Male', 'Male', 'Male', 'Female', 'Female', 'Male', 'Male', 'Male', 'Male', 'Male', 'Female', 'Male', 'Male', 'Female', 'Female', 'Male', 'Male', 'Male', 'Female', 'Female', 'Male', 'Male', 'Male', 'Male', 'Male', 'Male', 'Male', 'Male', 'Male', 'Female', 'Female', 'Male', 'Male', 'Male', 'Male', 'Male', 'Male', 'Male', 'Male', 'Female', 'Male', 'Male', 'Male', 'Female', 'Male', 'Male', 'Male', 'Male', 'Male', 'Male', 'Male', 'Male', 'Male', 'Male', 'Male', 'Female', 'Male', 'Male', 'Male', 'Male', 'Male', 'Male', 'Female', 'Male', 'Female', 'Male', 'Female', 'Male', 'Male', 'Male', 'Male', 'Male', 'Female', 'Female', 'Female', 'Female', 'Male', 'Female', 'Female', 'Male', 'Female', 'Female', 'Male', 'Male', 'Female', 'Female', 'Male', 'Female', 'Male', 'Female', 'Male', 'Male', 'Male', 'Male', 'Male', 'Male', 'Female', 'Female', 'Male', 'Male', 'Male', 'Male', 'Female', 'Male', 'Male', 'Male', 'Male', 'Male', 'Male', 'Female', 'Female', 'Female', 'Male', 'Male', 'Male', 'Male', 'Male', 'Female', 'Male', 'Male', 'Male', 'Male', 'Male', 'Male', 'Male', 'Female', 'Male', 'Male', 'Female', 'Female', 'Female', 'Male', 'Male', 'Male', 'Male', 'Female', 'Male', 'Female', 'Male', 'Female', 'Male', 'Male', 'Male', 'Male', 'Female', 'Female', 'Female', 'Male', 'Male', 'Female', 'Female', 'Male', 'Male', 'Female', 'Female', 'Male', 'Male', 'Male', 'Female', 'Female', 'Male', 'Male', 'Male', 'Male', 'Male', 'Male', 'Male', 'Male', 'Male', 'Male', 'Female', 'Male', 'Male', 'Male', 'Male', 'Male', 'Female', 'Male', 'Female', 'Male', 'Male', 'Female', 'Male', 'Male', 'Male', 'Male', 'Male', 'Female', 'Male', 'Male', 'Male', 'Male', 'Male', 'Male', 'Male', 'Female', 'Female', 'Male', 'Male', 'Male', 'Female', 'Male', 'Male', 'Male', 'Female', 'Male', 'Female', 'Female', 'Male', 'Female', 'Female', 'Female', 'Male', 'Male', 'Male', 'Female', 'Female', 'Female', 'Female', 'Female', 'Male', 'Male', 'Male', 'Female', 'Female', 'Female', 'Male', 'Male', 'Male', 'Male', 'Male', 'Female', 'Male', 'Male', 'Male', 'Male', 'Female', 'Female', 'Male', 'Male', 'Female', 'Female', 'Female', 'Female', 'Male', 'Male', 'Male', 'Female', 'Male', 'Male', 'Male', 'Male', 'Male', 'Male', 'Male', 'Male', 'Male', 'Male', 'Male', 'Male', 'Male', 'Female', 'Female', 'Male', 'Male', 'Male', 'Female', 'Male', 'Female', 'Male', 'Male', 'Male', 'Male', 'Male', 'Male', 'Male', 'Male', 'Male', 'Male', 'Male', 'Male', 'Male', 'Male', 'Male', 'Male', 'Male', 'Female', 'Male', 'Male', 'Male', 'Male', 'Male', 'Male', 'Male', 'Male', 'Male', 'Male', 'Male', 'Female', 'Male', 'Male', 'Female', 'Male', 'Male', 'Male', 'Male', 'Female', 'Male', 'Male', 'Female', 'Male', 'Male', 'Male', 'Female', 'Male', 'Female', 'Male', 'Male', 'Male', 'Male', 'Female', 'Female', 'Male', 'Female', 'Male', 'Female', 'Male', 'Male', 'Male', 'Male', 'Male', 'Male', 'Male', 'Male', 'Male', 'Male', 'Male', 'Male', 'Male', 'Male', 'Female', 'Male', 'Female', 'Male', 'Female', 'Male', 'Male', 'Male', 'Male', 'Male', 'Male', 'Male', 'Male', 'Male', 'Male', 'Male', 'Male', 'Male', 'Male']\n"
     ]
    }
   ],
   "source": [
    "age_list=liver_copy1['Gender'].tolist()\n",
    "print(age_list)"
   ]
  },
  {
   "cell_type": "code",
   "execution_count": 30,
   "metadata": {},
   "outputs": [
    {
     "name": "stdout",
     "output_type": "stream",
     "text": [
      "44.74614065180103\n",
      "45.0\n",
      "0    60\n",
      "dtype: int64\n",
      "90\n",
      "4\n",
      "26087\n",
      "0\n",
      "0    60\n",
      "dtype: int64\n"
     ]
    }
   ],
   "source": [
    "print(liver_copy1['Age'].mean())\n",
    "print(liver_copy1['Age'].median())\n",
    "print(liver_copy1['Age'].mode())\n",
    "print(liver_copy1['Age'].max())\n",
    "print(liver_copy1['Age'].min())\n",
    "print(liver_copy1['Age'].sum())\n",
    "print(liver_copy1['Age'].product())\n",
    "print(liver_copy1['Age'].mode())"
   ]
  },
  {
   "cell_type": "code",
   "execution_count": 32,
   "metadata": {},
   "outputs": [
    {
     "name": "stdout",
     "output_type": "stream",
     "text": [
      "265    4\n",
      "271    4\n",
      "218    6\n",
      "Name: Age, dtype: int64\n",
      "571    90\n",
      "44     85\n",
      "29     84\n",
      "397    78\n",
      "Name: Age, dtype: int64\n"
     ]
    }
   ],
   "source": [
    "print(liver_copy1['Age'].nsmallest().head(3))\n",
    "print(liver_copy1['Age'].nlargest().head(4))"
   ]
  },
  {
   "cell_type": "code",
   "execution_count": 34,
   "metadata": {},
   "outputs": [
    {
     "name": "stdout",
     "output_type": "stream",
     "text": [
      "     Age  Gender    TB    DB  Alkphos  Sgpt  Sgot   TP  ALB   AG  LiverPatient\n",
      "273   30    Male   0.7   0.2      262    15    18  9.6  4.7  1.2             1\n",
      "270   37    Male   0.7   0.2      235    96    54  9.5  4.9  1.0             1\n",
      "519   35    Male  26.3  12.1      108   168   630  9.2  2.0  0.3             1\n",
      "510   37  Female   0.8   0.2      205    31    36  9.2  4.6  1.0             2\n",
      "335   13  Female   0.7   0.1      182    24    19  8.9  4.9  1.2             1\n",
      "372   48    Male   0.7   0.2      326    29    17  8.7  5.5  1.7             1\n",
      "520   62    Male   1.8   0.9      224    69   155  8.6  4.0  0.8             1\n",
      "286   34  Female   0.8   0.2      192    15    12  8.6  4.7  1.2             1\n",
      "290   45  Female   1.0   0.3      250    48    44  8.6  4.3  1.0             1\n",
      "312   27    Male   1.3   0.6      106    25    54  8.5  4.8  NaN             2\n"
     ]
    }
   ],
   "source": [
    "print(liver_copy1.sort_values(by='TP',ascending=False).head(10))"
   ]
  },
  {
   "cell_type": "code",
   "execution_count": 35,
   "metadata": {},
   "outputs": [
    {
     "name": "stdout",
     "output_type": "stream",
     "text": [
      "     Age  Gender    TB    DB  Alkphos  Sgpt  Sgot   TP  ALB   AG  LiverPatient\n",
      "166   55    Male  75.0   3.6      332    40    66  6.2  2.5  0.6             1\n",
      "559   26    Male  42.8  19.7      390    75   138  7.5  2.6  0.5             1\n",
      "505   32    Male  32.6  14.1      219    95   235  5.8  3.1  1.1             1\n",
      "531   40    Male  30.8  18.3      285   110   186  7.9  2.7  0.5             1\n",
      "259   42    Male  30.5  14.2      285    65   130  5.2  2.1  0.6             1\n",
      "504   32    Male  30.5  17.1      218    39    79  5.5  2.7  0.9             1\n",
      "547   50  Female  27.7  10.8      380    39   348  7.1  2.3  0.4             1\n",
      "199    7  Female  27.2  11.8     1420   790  1050  6.1  2.0  0.4             1\n",
      "519   35    Male  26.3  12.1      108   168   630  9.2  2.0  0.3             1\n",
      "575   32    Male  25.0  13.7      560    41    88  7.9  2.5  2.5             1\n"
     ]
    }
   ],
   "source": [
    "print(liver_copy1.sort_values(by='TB',ascending=False).head(10))"
   ]
  },
  {
   "cell_type": "code",
   "execution_count": 36,
   "metadata": {},
   "outputs": [
    {
     "name": "stdout",
     "output_type": "stream",
     "text": [
      "     Age  Gender   TB   DB  Alkphos  Sgpt  Sgot   TP  ALB    AG  LiverPatient\n",
      "425   58    Male  0.4  0.1      100    59   126  4.3  2.5  1.40             1\n",
      "104   63    Male  0.5  0.1      170    21    28  5.5  2.5  0.80             1\n",
      "578   60    Male  0.5  0.1      500    20    34  5.9  1.6  0.37             2\n",
      "480    7    Male  0.5  0.1      352    28    51  7.9  4.2  1.10             2\n",
      "402   42  Female  0.5  0.1      162   155   108  8.1  4.0  0.90             1\n",
      "435   17  Female  0.5  0.1      206    28    21  7.1  4.5  1.70             2\n",
      "215   66    Male  0.6  0.2      100    17   148  5.0  3.3  1.90             2\n",
      "428   52  Female  0.6  0.1      194    10    12  6.9  3.3  0.90             2\n",
      "225   26    Male  0.6  0.2      120    45    51  7.9  4.0  1.00             1\n",
      "416   70    Male  0.6  0.1      862    76   180  6.3  2.7  0.75             1\n"
     ]
    }
   ],
   "source": [
    "print(liver_copy1.sort_values(by='TB',ascending=True).head(10))"
   ]
  },
  {
   "cell_type": "code",
   "execution_count": 38,
   "metadata": {},
   "outputs": [
    {
     "name": "stdout",
     "output_type": "stream",
     "text": [
      "     Age  Gender    TB    DB  Alkphos  Sgpt  Sgot   TP  ALB   AG  LiverPatient\n",
      "575   32    Male  25.0  13.7      560    41    88  7.9  2.5  2.5             1\n",
      "519   35    Male  26.3  12.1      108   168   630  9.2  2.0  0.3             1\n",
      "199    7  Female  27.2  11.8     1420   790  1050  6.1  2.0  0.4             1\n",
      "547   50  Female  27.7  10.8      380    39   348  7.1  2.3  0.4             1\n",
      "504   32    Male  30.5  17.1      218    39    79  5.5  2.7  0.9             1\n",
      "259   42    Male  30.5  14.2      285    65   130  5.2  2.1  0.6             1\n",
      "531   40    Male  30.8  18.3      285   110   186  7.9  2.7  0.5             1\n",
      "505   32    Male  32.6  14.1      219    95   235  5.8  3.1  1.1             1\n",
      "559   26    Male  42.8  19.7      390    75   138  7.5  2.6  0.5             1\n",
      "166   55    Male  75.0   3.6      332    40    66  6.2  2.5  0.6             1\n"
     ]
    }
   ],
   "source": [
    "print(liver_copy1.sort_values(by='TB',ascending=True).tail(10))"
   ]
  },
  {
   "cell_type": "code",
   "execution_count": null,
   "metadata": {},
   "outputs": [],
   "source": []
  }
 ],
 "metadata": {
  "interpreter": {
   "hash": "b140b1f891d7f5d80e32e2da320cf6ca9380f361466450903247e3a62134aeb6"
  },
  "kernelspec": {
   "display_name": "Python 3.7.8 32-bit",
   "language": "python",
   "name": "python3"
  },
  "language_info": {
   "codemirror_mode": {
    "name": "ipython",
    "version": 3
   },
   "file_extension": ".py",
   "mimetype": "text/x-python",
   "name": "python",
   "nbconvert_exporter": "python",
   "pygments_lexer": "ipython3",
   "version": "3.9.7"
  },
  "orig_nbformat": 4
 },
 "nbformat": 4,
 "nbformat_minor": 2
}
