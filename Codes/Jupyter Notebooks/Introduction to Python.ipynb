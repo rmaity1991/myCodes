{
 "cells": [
  {
   "cell_type": "code",
   "execution_count": 1,
   "id": "7f72728b",
   "metadata": {},
   "outputs": [
    {
     "name": "stdout",
     "output_type": "stream",
     "text": [
      "Total Salary is salary\n",
      "Total Salary is  : 7000\n"
     ]
    }
   ],
   "source": [
    "# Program to print output in the program\n",
    "\n",
    "salary=7000\n",
    "print(\"Total Salary is salary\")\n",
    "print(\"Total Salary is  :\", salary)"
   ]
  },
  {
   "cell_type": "code",
   "execution_count": 2,
   "id": "9192005a",
   "metadata": {},
   "outputs": [
    {
     "name": "stdout",
     "output_type": "stream",
     "text": [
      "Welcome\n",
      "To\n",
      "Python World\n"
     ]
    }
   ],
   "source": [
    "print(\"Welcome\")\n",
    "print(\"To\")\n",
    "print(\"Python World\")"
   ]
  },
  {
   "cell_type": "code",
   "execution_count": 4,
   "id": "aa9a1720",
   "metadata": {},
   "outputs": [
    {
     "name": "stdout",
     "output_type": "stream",
     "text": [
      "Welcome to Python World "
     ]
    }
   ],
   "source": [
    "# This end parameter cause the cursor to remain in the same line\n",
    "print(\"Welcome\",end=\" \")\n",
    "print(\"to\",end=\" \")\n",
    "print(\"Python World\",end=\" \")"
   ]
  },
  {
   "cell_type": "code",
   "execution_count": 5,
   "id": "e19585aa",
   "metadata": {},
   "outputs": [
    {
     "name": "stdout",
     "output_type": "stream",
     "text": [
      "Hello Dear \n",
      "Enter your name Welcome\n",
      " Nice to See You"
     ]
    }
   ],
   "source": [
    "# using the end statements\n",
    "print(\"Hello Dear \")\n",
    "print(\"Enter your name\", end =\" \")\n",
    "print(\"Welcome\")\n",
    "print(end=\" Nice to See You\")"
   ]
  },
  {
   "cell_type": "code",
   "execution_count": 7,
   "id": "ce894d6b",
   "metadata": {},
   "outputs": [
    {
     "name": "stdout",
     "output_type": "stream",
     "text": [
      "100 150 200 250\n",
      "100 150 200 250\n",
      "100,150,200,250\n",
      "100:150:200:250\n",
      "100------150------200------250\n"
     ]
    }
   ],
   "source": [
    "# Program to show the use of \"Sep\" arguments in print statements\n",
    "var1,var2,var3,var4=100,150,200,250\n",
    "\n",
    "# Printing the variable swithout separator\"\n",
    "print(var1,var2,var3,var4)\n",
    "print(var1,var2,var3,var4, sep=\" \")\n",
    "print(var1,var2,var3,var4, sep=\",\")\n",
    "print(var1,var2,var3,var4, sep=\":\")\n",
    "print(var1,var2,var3,var4, sep=\"------\")"
   ]
  },
  {
   "cell_type": "code",
   "execution_count": 8,
   "id": "0ec23860",
   "metadata": {},
   "outputs": [
    {
     "name": "stdout",
     "output_type": "stream",
     "text": [
      "Enter the number: 1000\n",
      "The number is 1000 and class is : <class 'str'>\n"
     ]
    }
   ],
   "source": [
    "num=input(\"Enter the number: \")\n",
    "print(\"The number is\",num,\"and class is :\",type(num))"
   ]
  },
  {
   "cell_type": "code",
   "execution_count": 10,
   "id": "ccf452d1",
   "metadata": {},
   "outputs": [
    {
     "name": "stdout",
     "output_type": "stream",
     "text": [
      "Enter your name :Rohit Maity\n",
      "Hello and welcome  : Rohit Maity\n"
     ]
    }
   ],
   "source": [
    "username=input(\"Enter your name :\")\n",
    "print(\"Hello and welcome  :\",username)"
   ]
  },
  {
   "cell_type": "code",
   "execution_count": 11,
   "id": "ed426c69",
   "metadata": {},
   "outputs": [
    {
     "name": "stdout",
     "output_type": "stream",
     "text": [
      "Enter the salary234000\n",
      "The value of the var 1 is:  234000 the type is <class 'int'>\n"
     ]
    }
   ],
   "source": [
    "var1=int(input(\"Enter the salary\"))\n",
    "print(\"The value of the var 1 is: \",var1,\"the type is\",type(var1))"
   ]
  },
  {
   "cell_type": "code",
   "execution_count": 12,
   "id": "3f290837",
   "metadata": {},
   "outputs": [
    {
     "name": "stdout",
     "output_type": "stream",
     "text": [
      "Enter the salary23456\n",
      "The value of the var 1 is:  23456.0 the type is <class 'float'>\n"
     ]
    }
   ],
   "source": [
    "var1=float(input(\"Enter the salary\"))\n",
    "print(\"The value of the var 1 is: \",var1,\"the type is\",type(var1))"
   ]
  },
  {
   "cell_type": "code",
   "execution_count": 14,
   "id": "714f60a6",
   "metadata": {},
   "outputs": [
    {
     "name": "stdout",
     "output_type": "stream",
     "text": [
      "Enter the value of first variable:234.567\n",
      "val1 = 234.567 type :  <class 'float'>\n"
     ]
    }
   ],
   "source": [
    "# eval function converts string to type of input which is printed\n",
    "val1=eval(input(\"Enter the value of first variable:\"))\n",
    "print(\"val1 =\",val1,\"type : \",type(val1))"
   ]
  },
  {
   "cell_type": "code",
   "execution_count": 16,
   "id": "e6832b4f",
   "metadata": {},
   "outputs": [
    {
     "name": "stdout",
     "output_type": "stream",
     "text": [
      "Enter the value of first variable:345\n",
      "val1 = 345 type :  <class 'int'>\n"
     ]
    }
   ],
   "source": [
    "val1=eval(input(\"Enter the value of first variable:\"))\n",
    "print(\"val1 =\",val1,\"type : \",type(val1))"
   ]
  },
  {
   "cell_type": "code",
   "execution_count": 18,
   "id": "3508887e",
   "metadata": {},
   "outputs": [
    {
     "name": "stdout",
     "output_type": "stream",
     "text": [
      "Enter three numbers :23,34,56\n",
      "23 34 56\n"
     ]
    }
   ],
   "source": [
    "a,b,c = eval(input(\"Enter three numbers :\"))\n",
    "print(a,b,c)"
   ]
  },
  {
   "cell_type": "code",
   "execution_count": null,
   "id": "72f8a7cf",
   "metadata": {},
   "outputs": [],
   "source": []
  }
 ],
 "metadata": {
  "kernelspec": {
   "display_name": "Python 3 (ipykernel)",
   "language": "python",
   "name": "python3"
  },
  "language_info": {
   "codemirror_mode": {
    "name": "ipython",
    "version": 3
   },
   "file_extension": ".py",
   "mimetype": "text/x-python",
   "name": "python",
   "nbconvert_exporter": "python",
   "pygments_lexer": "ipython3",
   "version": "3.9.7"
  }
 },
 "nbformat": 4,
 "nbformat_minor": 5
}
