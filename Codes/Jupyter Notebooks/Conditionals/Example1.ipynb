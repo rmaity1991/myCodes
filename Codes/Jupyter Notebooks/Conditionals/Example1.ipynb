{
 "cells": [
  {
   "cell_type": "code",
   "execution_count": 2,
   "metadata": {},
   "outputs": [
    {
     "name": "stdout",
     "output_type": "stream",
     "text": [
      "the first organisation is performing better\n"
     ]
    }
   ],
   "source": [
    "#program to compare share price of two companies\n",
    "\n",
    "p1,p2=eval(input(\"Enter the number of share prices\"))\n",
    "\n",
    "#using if statements\n",
    "\n",
    "if(p1<p2):\n",
    "    print(\"the first organisation is performing better\")\n",
    "    "
   ]
  },
  {
   "cell_type": "code",
   "execution_count": 3,
   "metadata": {},
   "outputs": [
    {
     "name": "stdout",
     "output_type": "stream",
     "text": [
      "the first organisation is performing better\n"
     ]
    }
   ],
   "source": [
    "#program to compare share price of two companies\n",
    "\n",
    "p1,p2=eval(input(\"Enter the number of share prices\"))\n",
    "\n",
    "#using if statements\n",
    "\n",
    "if(p1<p2):\n",
    "    print(\"the first organisation is performing better\")\n",
    "else:\n",
    "    print(\"The second organisation is doing better\")"
   ]
  },
  {
   "cell_type": "code",
   "execution_count": 4,
   "metadata": {},
   "outputs": [
    {
     "name": "stdout",
     "output_type": "stream",
     "text": [
      "Good Profit\n"
     ]
    }
   ],
   "source": [
    "# Program to print the result of depending on profit\n",
    "\n",
    "sales=float(input(\"Input the sales amount :\"))\n",
    "expenses=float(input(\"Input the expenses :\"))\n",
    "profit=sales-expenses\n",
    "if (profit>9000):\n",
    "    print(\"Good Profit\")\n",
    "else:\n",
    "    print(\"Poor Profit\")\n",
    "    "
   ]
  },
  {
   "cell_type": "code",
   "execution_count": 5,
   "metadata": {},
   "outputs": [
    {
     "name": "stdout",
     "output_type": "stream",
     "text": [
      "The third product is expensive\n"
     ]
    }
   ],
   "source": [
    "# program to compute expensive product among three products\n",
    "p1,p2,p3=eval(input(\"Input the prices of the three products\"))\n",
    "if(p1>p2):\n",
    "    if(p1>p3):\n",
    "        print(\"First Product is expensive\")\n",
    "    else:\n",
    "        print(\"Seconf Product is expensive\")\n",
    "else:\n",
    "    print(\"The third product is expensive\")\n",
    " "
   ]
  },
  {
   "cell_type": "code",
   "execution_count": 6,
   "metadata": {},
   "outputs": [
    {
     "name": "stdout",
     "output_type": "stream",
     "text": [
      "A few more years\n"
     ]
    }
   ],
   "source": [
    "age=eval(input(\"Enter the age required\"))\n",
    "\n",
    "if(age<10):\n",
    "    print(\"You are too small\")\n",
    "elif(age>10 & age<18):\n",
    "    print(\"A few more years\")\n",
    "elif(age>18):\n",
    "    print(\"You are eligible\")\n"
   ]
  },
  {
   "cell_type": "code",
   "execution_count": null,
   "metadata": {},
   "outputs": [],
   "source": []
  }
 ],
 "metadata": {
  "interpreter": {
   "hash": "b140b1f891d7f5d80e32e2da320cf6ca9380f361466450903247e3a62134aeb6"
  },
  "kernelspec": {
   "display_name": "Python 3.7.8 32-bit",
   "language": "python",
   "name": "python3"
  },
  "language_info": {
   "codemirror_mode": {
    "name": "ipython",
    "version": 3
   },
   "file_extension": ".py",
   "mimetype": "text/x-python",
   "name": "python",
   "nbconvert_exporter": "python",
   "pygments_lexer": "ipython3",
   "version": "3.7.8"
  },
  "orig_nbformat": 4
 },
 "nbformat": 4,
 "nbformat_minor": 2
}
